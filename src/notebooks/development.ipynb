{
 "cells": [
  {
   "cell_type": "code",
   "execution_count": 1,
   "id": "392d123d",
   "metadata": {},
   "outputs": [],
   "source": [
    "import sys\n",
    "import os\n",
    "\n",
    "# Add the parent directory to sys.path if models.py is in the parent folder\n",
    "sys.path.append(os.path.abspath('..'))\n",
    "\n",
    "from models import GatheringModel, read_input\n",
    "import pandas as pd\n",
    "from gamspy import Options"
   ]
  },
  {
   "cell_type": "code",
   "execution_count": 2,
   "id": "0aeb27e6",
   "metadata": {},
   "outputs": [],
   "source": [
    "data = read_input(\"toy_problem.xlsx\")"
   ]
  },
  {
   "cell_type": "code",
   "execution_count": 3,
   "id": "d75935ad",
   "metadata": {},
   "outputs": [],
   "source": [
    "m = GatheringModel(\"Hola mundo\")"
   ]
  },
  {
   "cell_type": "code",
   "execution_count": 4,
   "id": "4ccf438d",
   "metadata": {},
   "outputs": [],
   "source": [
    "m.instance_model(data)"
   ]
  },
  {
   "cell_type": "code",
   "execution_count": 5,
   "id": "cc7ddac6",
   "metadata": {},
   "outputs": [],
   "source": [
    "container = m.m"
   ]
  },
  {
   "cell_type": "code",
   "execution_count": 10,
   "id": "f2118ee0",
   "metadata": {},
   "outputs": [
    {
     "data": {
      "text/html": [
       "<div>\n",
       "<style scoped>\n",
       "    .dataframe tbody tr th:only-of-type {\n",
       "        vertical-align: middle;\n",
       "    }\n",
       "\n",
       "    .dataframe tbody tr th {\n",
       "        vertical-align: top;\n",
       "    }\n",
       "\n",
       "    .dataframe thead th {\n",
       "        text-align: right;\n",
       "    }\n",
       "</style>\n",
       "<table border=\"1\" class=\"dataframe\">\n",
       "  <thead>\n",
       "    <tr style=\"text-align: right;\">\n",
       "      <th></th>\n",
       "      <th>s</th>\n",
       "      <th>c</th>\n",
       "      <th>value</th>\n",
       "    </tr>\n",
       "  </thead>\n",
       "  <tbody>\n",
       "    <tr>\n",
       "      <th>0</th>\n",
       "      <td>s1</td>\n",
       "      <td>oil</td>\n",
       "      <td>10000.0</td>\n",
       "    </tr>\n",
       "    <tr>\n",
       "      <th>1</th>\n",
       "      <td>s1</td>\n",
       "      <td>gas</td>\n",
       "      <td>30000.0</td>\n",
       "    </tr>\n",
       "    <tr>\n",
       "      <th>2</th>\n",
       "      <td>s1</td>\n",
       "      <td>water</td>\n",
       "      <td>30000.0</td>\n",
       "    </tr>\n",
       "    <tr>\n",
       "      <th>3</th>\n",
       "      <td>s2</td>\n",
       "      <td>oil</td>\n",
       "      <td>20000.0</td>\n",
       "    </tr>\n",
       "    <tr>\n",
       "      <th>4</th>\n",
       "      <td>s2</td>\n",
       "      <td>gas</td>\n",
       "      <td>60000.0</td>\n",
       "    </tr>\n",
       "    <tr>\n",
       "      <th>5</th>\n",
       "      <td>s2</td>\n",
       "      <td>water</td>\n",
       "      <td>60000.0</td>\n",
       "    </tr>\n",
       "  </tbody>\n",
       "</table>\n",
       "</div>"
      ],
      "text/plain": [
       "    s      c    value\n",
       "0  s1    oil  10000.0\n",
       "1  s1    gas  30000.0\n",
       "2  s1  water  30000.0\n",
       "3  s2    oil  20000.0\n",
       "4  s2    gas  60000.0\n",
       "5  s2  water  60000.0"
      ]
     },
     "execution_count": 10,
     "metadata": {},
     "output_type": "execute_result"
    }
   ],
   "source": [
    "container[\"capacity\"].records"
   ]
  },
  {
   "cell_type": "code",
   "execution_count": 12,
   "id": "fa09dbce",
   "metadata": {},
   "outputs": [],
   "source": [
    "container[\"maxFlow\"].records"
   ]
  },
  {
   "cell_type": "code",
   "execution_count": 9,
   "id": "b9908693",
   "metadata": {},
   "outputs": [
    {
     "data": {
      "text/html": [
       "<div>\n",
       "<style scoped>\n",
       "    .dataframe tbody tr th:only-of-type {\n",
       "        vertical-align: middle;\n",
       "    }\n",
       "\n",
       "    .dataframe tbody tr th {\n",
       "        vertical-align: top;\n",
       "    }\n",
       "\n",
       "    .dataframe thead th {\n",
       "        text-align: right;\n",
       "    }\n",
       "</style>\n",
       "<table border=\"1\" class=\"dataframe\">\n",
       "  <thead>\n",
       "    <tr style=\"text-align: right;\">\n",
       "      <th></th>\n",
       "      <th>t</th>\n",
       "      <th>value</th>\n",
       "    </tr>\n",
       "  </thead>\n",
       "  <tbody>\n",
       "    <tr>\n",
       "      <th>0</th>\n",
       "      <td>t1</td>\n",
       "      <td>6500.0</td>\n",
       "    </tr>\n",
       "    <tr>\n",
       "      <th>1</th>\n",
       "      <td>t2</td>\n",
       "      <td>6100.0</td>\n",
       "    </tr>\n",
       "    <tr>\n",
       "      <th>2</th>\n",
       "      <td>t3</td>\n",
       "      <td>5200.0</td>\n",
       "    </tr>\n",
       "    <tr>\n",
       "      <th>3</th>\n",
       "      <td>t4</td>\n",
       "      <td>4400.0</td>\n",
       "    </tr>\n",
       "    <tr>\n",
       "      <th>4</th>\n",
       "      <td>t5</td>\n",
       "      <td>4000.0</td>\n",
       "    </tr>\n",
       "    <tr>\n",
       "      <th>...</th>\n",
       "      <td>...</td>\n",
       "      <td>...</td>\n",
       "    </tr>\n",
       "    <tr>\n",
       "      <th>115</th>\n",
       "      <td>t116</td>\n",
       "      <td>205.0</td>\n",
       "    </tr>\n",
       "    <tr>\n",
       "      <th>116</th>\n",
       "      <td>t117</td>\n",
       "      <td>203.0</td>\n",
       "    </tr>\n",
       "    <tr>\n",
       "      <th>117</th>\n",
       "      <td>t118</td>\n",
       "      <td>202.0</td>\n",
       "    </tr>\n",
       "    <tr>\n",
       "      <th>118</th>\n",
       "      <td>t119</td>\n",
       "      <td>200.0</td>\n",
       "    </tr>\n",
       "    <tr>\n",
       "      <th>119</th>\n",
       "      <td>t120</td>\n",
       "      <td>198.0</td>\n",
       "    </tr>\n",
       "  </tbody>\n",
       "</table>\n",
       "<p>120 rows × 2 columns</p>\n",
       "</div>"
      ],
      "text/plain": [
       "        t   value\n",
       "0      t1  6500.0\n",
       "1      t2  6100.0\n",
       "2      t3  5200.0\n",
       "3      t4  4400.0\n",
       "4      t5  4000.0\n",
       "..    ...     ...\n",
       "115  t116   205.0\n",
       "116  t117   203.0\n",
       "117  t118   202.0\n",
       "118  t119   200.0\n",
       "119  t120   198.0\n",
       "\n",
       "[120 rows x 2 columns]"
      ]
     },
     "execution_count": 9,
     "metadata": {},
     "output_type": "execute_result"
    }
   ],
   "source": [
    "container[\"Qprod\"].records"
   ]
  },
  {
   "cell_type": "code",
   "execution_count": 6,
   "id": "30b75747",
   "metadata": {},
   "outputs": [],
   "source": [
    "model = container.models[\"Multiphase_network_design\"]"
   ]
  },
  {
   "cell_type": "code",
   "execution_count": 7,
   "id": "c8892801",
   "metadata": {},
   "outputs": [],
   "source": [
    "# summary = model.solve(solver=\"conopt\", options=Options(iteration_limit=2), solver_options={\"rtmaxv\": \"1.e12\"})\n",
    "summary = model.solve(solver=\"cplex\", options=Options(equation_listing_limit=100))"
   ]
  },
  {
   "cell_type": "code",
   "execution_count": 8,
   "id": "76e13370",
   "metadata": {},
   "outputs": [
    {
     "data": {
      "text/html": [
       "<div>\n",
       "<style scoped>\n",
       "    .dataframe tbody tr th:only-of-type {\n",
       "        vertical-align: middle;\n",
       "    }\n",
       "\n",
       "    .dataframe tbody tr th {\n",
       "        vertical-align: top;\n",
       "    }\n",
       "\n",
       "    .dataframe thead th {\n",
       "        text-align: right;\n",
       "    }\n",
       "</style>\n",
       "<table border=\"1\" class=\"dataframe\">\n",
       "  <thead>\n",
       "    <tr style=\"text-align: right;\">\n",
       "      <th></th>\n",
       "      <th>Solver Status</th>\n",
       "      <th>Model Status</th>\n",
       "      <th>Objective</th>\n",
       "      <th>Num of Equations</th>\n",
       "      <th>Num of Variables</th>\n",
       "      <th>Model Type</th>\n",
       "      <th>Solver</th>\n",
       "      <th>Solver Time</th>\n",
       "    </tr>\n",
       "  </thead>\n",
       "  <tbody>\n",
       "    <tr>\n",
       "      <th>0</th>\n",
       "      <td>Normal</td>\n",
       "      <td>IntegerInfeasible</td>\n",
       "      <td>NaN</td>\n",
       "      <td>1054729</td>\n",
       "      <td>1132441</td>\n",
       "      <td>MIP</td>\n",
       "      <td>CPLEX</td>\n",
       "      <td>0.75</td>\n",
       "    </tr>\n",
       "  </tbody>\n",
       "</table>\n",
       "</div>"
      ],
      "text/plain": [
       "  Solver Status       Model Status  Objective  Num of Equations  \\\n",
       "0        Normal  IntegerInfeasible        NaN           1054729   \n",
       "\n",
       "   Num of Variables Model Type Solver  Solver Time  \n",
       "0           1132441        MIP  CPLEX         0.75  "
      ]
     },
     "execution_count": 8,
     "metadata": {},
     "output_type": "execute_result"
    }
   ],
   "source": [
    "summary"
   ]
  },
  {
   "cell_type": "code",
   "execution_count": 38,
   "id": "63dad37a",
   "metadata": {},
   "outputs": [
    {
     "data": {
      "text/plain": [
       "'mass_balance(i1,oil,t15)..  - Qinter(i1,j1,d1,t15,oil) - Qinter(i1,j1,d2,t15,oil) - Qinter(i1,j1,d3,t15,oil) - Qinter(i1,j1,d4,t15,oil) - Qinter(i1,j2,d1,t15,oil) - Qinter(i1,j2,d2,t15,oil) - Qinter(i'"
      ]
     },
     "execution_count": 38,
     "metadata": {},
     "output_type": "execute_result"
    }
   ],
   "source": [
    "model.getEquationListing()[:200]"
   ]
  }
 ],
 "metadata": {
  "kernelspec": {
   "display_name": "venv (3.13.3)",
   "language": "python",
   "name": "python3"
  },
  "language_info": {
   "codemirror_mode": {
    "name": "ipython",
    "version": 3
   },
   "file_extension": ".py",
   "mimetype": "text/x-python",
   "name": "python",
   "nbconvert_exporter": "python",
   "pygments_lexer": "ipython3",
   "version": "3.13.3"
  }
 },
 "nbformat": 4,
 "nbformat_minor": 5
}
