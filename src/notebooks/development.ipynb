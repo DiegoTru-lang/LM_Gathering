{
 "cells": [
  {
   "cell_type": "code",
   "execution_count": 1,
   "id": "392d123d",
   "metadata": {},
   "outputs": [],
   "source": [
    "import sys\n",
    "import os\n",
    "\n",
    "# Add the parent directory to sys.path if models.py is in the parent folder\n",
    "sys.path.append(os.path.abspath('..'))\n",
    "\n",
    "from models import GatheringModel, read_input\n",
    "import pandas as pd"
   ]
  },
  {
   "cell_type": "code",
   "execution_count": 2,
   "id": "0aeb27e6",
   "metadata": {},
   "outputs": [],
   "source": [
    "data = read_input(\"toy_problem.xlsx\")"
   ]
  },
  {
   "cell_type": "code",
   "execution_count": 3,
   "id": "d75935ad",
   "metadata": {},
   "outputs": [],
   "source": [
    "m = GatheringModel(\"Hola mundo\")"
   ]
  },
  {
   "cell_type": "code",
   "execution_count": 4,
   "id": "4ccf438d",
   "metadata": {},
   "outputs": [],
   "source": [
    "m.instance_model(data)"
   ]
  },
  {
   "cell_type": "code",
   "execution_count": 5,
   "id": "cc7ddac6",
   "metadata": {},
   "outputs": [],
   "source": [
    "model = m.m"
   ]
  }
 ],
 "metadata": {
  "kernelspec": {
   "display_name": "venv (3.13.3)",
   "language": "python",
   "name": "python3"
  },
  "language_info": {
   "codemirror_mode": {
    "name": "ipython",
    "version": 3
   },
   "file_extension": ".py",
   "mimetype": "text/x-python",
   "name": "python",
   "nbconvert_exporter": "python",
   "pygments_lexer": "ipython3",
   "version": "3.13.3"
  }
 },
 "nbformat": 4,
 "nbformat_minor": 5
}
