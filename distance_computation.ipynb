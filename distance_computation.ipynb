{
 "cells": [
  {
   "cell_type": "code",
   "execution_count": 1,
   "id": "de830694",
   "metadata": {},
   "outputs": [],
   "source": [
    "import math\n",
    "\n",
    "def triangle_angles(a, b, c):\n",
    "    A = math.degrees(math.acos((b**2 + c**2 - a**2) / (2*b*c)))\n",
    "    B = math.degrees(math.acos((a**2 + c**2 - b**2) / (2*a*c)))\n",
    "    C = 180 - A - B\n",
    "    return A, B, C"
   ]
  },
  {
   "cell_type": "code",
   "execution_count": 14,
   "id": "5a8d84ad",
   "metadata": {},
   "outputs": [
    {
     "name": "stdout",
     "output_type": "stream",
     "text": [
      "(26.565050888811463, 63.434947669855916, 90.00000144133261)\n"
     ]
    }
   ],
   "source": [
    "print(triangle_angles(0.25, 0.5, 0.559017))\n",
    "# (44.42, 57.12, 78.46)"
   ]
  },
  {
   "cell_type": "code",
   "execution_count": 4,
   "id": "e64309f5",
   "metadata": {},
   "outputs": [
    {
     "data": {
      "text/plain": [
       "0.07564433602369708"
      ]
     },
     "execution_count": 4,
     "metadata": {},
     "output_type": "execute_result"
    }
   ],
   "source": [
    "math.sin(math.radians(5.70966))*0.76034"
   ]
  },
  {
   "cell_type": "code",
   "execution_count": 15,
   "id": "850fd961",
   "metadata": {},
   "outputs": [
    {
     "data": {
      "text/plain": [
       "0.5590169943749475"
      ]
     },
     "execution_count": 15,
     "metadata": {},
     "output_type": "execute_result"
    }
   ],
   "source": [
    "math.sqrt((3.75-3.5)**2 + (0.25 - 0.75)**2)"
   ]
  },
  {
   "cell_type": "code",
   "execution_count": 5,
   "id": "eec89a45",
   "metadata": {},
   "outputs": [
    {
     "data": {
      "text/plain": [
       "0.7565678092725953"
      ]
     },
     "execution_count": 5,
     "metadata": {},
     "output_type": "execute_result"
    }
   ],
   "source": [
    "math.cos(math.radians(5.70966))*0.76034"
   ]
  },
  {
   "cell_type": "code",
   "execution_count": 6,
   "id": "ed50b88b",
   "metadata": {},
   "outputs": [
    {
     "data": {
      "text/plain": [
       "1.2391473562037247"
      ]
     },
     "execution_count": 6,
     "metadata": {},
     "output_type": "execute_result"
    }
   ],
   "source": [
    "math.cos(math.radians(9.460844))*1.25623445"
   ]
  }
 ],
 "metadata": {
  "kernelspec": {
   "display_name": "venv (3.13.3)",
   "language": "python",
   "name": "python3"
  },
  "language_info": {
   "codemirror_mode": {
    "name": "ipython",
    "version": 3
   },
   "file_extension": ".py",
   "mimetype": "text/x-python",
   "name": "python",
   "nbconvert_exporter": "python",
   "pygments_lexer": "ipython3",
   "version": "3.13.3"
  }
 },
 "nbformat": 4,
 "nbformat_minor": 5
}
